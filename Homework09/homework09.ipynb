{
 "metadata": {
  "language_info": {
   "codemirror_mode": {
    "name": "ipython",
    "version": 3
   },
   "file_extension": ".py",
   "mimetype": "text/x-python",
   "name": "python",
   "nbconvert_exporter": "python",
   "pygments_lexer": "ipython3",
   "version": "3.6.9-final"
  },
  "orig_nbformat": 2,
  "kernelspec": {
   "name": "python3",
   "display_name": "Python 3",
   "language": "python"
  }
 },
 "nbformat": 4,
 "nbformat_minor": 2,
 "cells": [
  {
   "source": [
    "# Homework 09\n",
    "\n",
    "## Group 10"
   ],
   "cell_type": "markdown",
   "metadata": {}
  },
  {
   "cell_type": "code",
   "execution_count": 1,
   "metadata": {},
   "outputs": [],
   "source": [
    "import numpy as np\n",
    "import tensorflow as tf\n",
    "import matplotlib.pyplot as plt"
   ]
  },
  {
   "cell_type": "code",
   "execution_count": 2,
   "metadata": {},
   "outputs": [
    {
     "output_type": "stream",
     "name": "stdout",
     "text": [
      "[7, 9, 8, 5, 9, 1, 5, 1, 4, 4]\n"
     ]
    }
   ],
   "source": [
    "# The task\n",
    "from random import randint, sample\n",
    "\n",
    "# Simple yield generator\n",
    "def simple_gen(num_to_gen):\n",
    "    num = 0\n",
    "    while num < num_to_gen:\n",
    "        yield randint(0,9)\n",
    "        num += 1\n",
    "\n",
    "print([x for x in simple_gen(10)])"
   ]
  },
  {
   "cell_type": "code",
   "execution_count": 6,
   "metadata": {},
   "outputs": [
    {
     "output_type": "execute_result",
     "data": {
      "text/plain": [
       "(TensorSpec(shape=(100,), dtype=tf.int32, name=None),\n",
       " TensorSpec(shape=<unknown>, dtype=tf.int32, name=None))"
      ]
     },
     "metadata": {},
     "execution_count": 6
    }
   ],
   "source": [
    "# The Tensorflow version\n",
    "\n",
    "# Creating a generator allows to control the values via the seed\n",
    "rng = tf.random.Generator.from_seed(1)\n",
    "\n",
    "def generate_sequence(nums, gen=rng):\n",
    "    \"\"\"generates a tf.Dataset of a given length with random numbers provided by a generator\"\"\"\n",
    "    return tf.data.Dataset.from_tensor_slices(gen.uniform(shape=(1, nums), maxval=10, dtype=tf.int32))\n",
    "\n",
    "\n",
    "# Needs a way to discribe the output shape, not sure how to implement this yet\n",
    "def generate_sequence2(nums):\n",
    "    \"\"\"generates a tf.Dataset of a given length with random numbers provided by a generator\"\"\"\n",
    "    return tf.data.Dataset.from_generator(simple_gen, args=[nums], output_types=tf.int32)\n",
    "\n",
    "ds = generate_sequence(100)\n",
    "ds2 = generate_sequence2(100)\n",
    "ds.element_spec, ds2.element_spec\n",
    "\n"
   ]
  },
  {
   "cell_type": "code",
   "execution_count": 4,
   "metadata": {},
   "outputs": [
    {
     "output_type": "execute_result",
     "data": {
      "text/plain": [
       "array([9, 2], dtype=int32)"
      ]
     },
     "metadata": {},
     "execution_count": 4
    }
   ],
   "source": [
    "# Generate the context:\n",
    "np.random.choice(a=10, size=2, replace=False)\n",
    "\n",
    "context = tf.random.uniform(shape=(2,), maxval=10, dtype=tf.int32)\n",
    "context.numpy()\n"
   ]
  },
  {
   "cell_type": "code",
   "execution_count": 7,
   "metadata": {},
   "outputs": [
    {
     "output_type": "execute_result",
     "data": {
      "text/plain": [
       "(<tf.Tensor: shape=(2,), dtype=int32, numpy=array([6, 9], dtype=int32)>,\n",
       " <FlatMapDataset shapes: <unknown>, types: tf.int32>,\n",
       " [<tf.Tensor: shape=(), dtype=int64, numpy=0>,\n",
       "  <tf.Tensor: shape=(), dtype=int64, numpy=0>])"
      ]
     },
     "metadata": {},
     "execution_count": 7
    }
   ],
   "source": [
    "def generate_data(batch_size):\n",
    "    # Generate two random digits as context\n",
    "    context = sample(range(0,10), 2)\n",
    "\n",
    "    # Generate the number sequence with a length of batch size\n",
    "    sequence = generate_sequence2(batch_size)\n",
    "\n",
    "    # Count the occurances of the context in the generated sequence\n",
    "    for t in sequence:\n",
    "        targ1 = tf.math.count_nonzero(tf.equal(t, context[0]))\n",
    "        targ2 = tf.math.count_nonzero(tf.equal(t, context[1]))\n",
    "    target = [targ1, targ2]\n",
    "\n",
    "    return tf.constant(context), sequence, target\n",
    "\n",
    "generate_data(20)\n"
   ]
  }
 ]
}