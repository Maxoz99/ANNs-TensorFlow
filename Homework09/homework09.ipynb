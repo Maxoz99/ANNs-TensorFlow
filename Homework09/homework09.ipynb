{
  "nbformat": 4,
  "nbformat_minor": 0,
  "metadata": {
    "accelerator": "GPU",
    "colab": {
      "name": "homework_09.ipynb",
      "provenance": [],
      "collapsed_sections": []
    },
    "kernelspec": {
      "display_name": "Python 3",
      "name": "python3",
      "language": "python"
    }
  },
  "cells": [
    {
      "cell_type": "markdown",
      "metadata": {
        "id": "k3taKHF2fdYb"
      },
      "source": [
        "# Homework 09\n",
        "\n",
        "## Group 10"
      ]
    },
    {
      "cell_type": "code",
      "metadata": {
        "id": "CjAttJdIc7zw"
      },
      "source": [
        "import tensorflow as tf\n",
        "import matplotlib.pyplot as plt\n",
        "import numpy as np\n",
        "from random import randint"
      ],
      "execution_count": 1,
      "outputs": []
    },
    {
      "cell_type": "code",
      "metadata": {
        "colab": {
          "base_uri": "https://localhost:8080/"
        },
        "id": "VG7BStv0uQ5i",
        "outputId": "a09e0a93-e72c-4070-ea40-e62a29be3d74"
      },
      "source": [
        "def generate_sample(length = None):\n",
        "\n",
        "    # Generate two distinct random digits\n",
        "    context = np.random.choice(np.arange(10), 2, replace=False).tolist()\n",
        "\n",
        "    # Generate a random sequence of given length\n",
        "    sequence = [[randint(0,10)] for _ in range(length)]\n",
        "\n",
        "    # Say which of the numbers is more common expressed as integer\n",
        "    target = int(sequence.count(context[0]) > sequence.count(context[1]))\n",
        "\n",
        "    # Append the context to each element of the sequence\n",
        "    for element in sequence:\n",
        "      element.extend(context)\n",
        "    \n",
        "    # One hot encode everything\n",
        "    sequence_final = [tf.reshape(tf.one_hot(element, 10), (30)) for element in sequence]\n",
        "\n",
        "    return tf.squeeze(tf.convert_to_tensor(sequence_final)), target\n",
        "    \n",
        "def generate_batch(length=25, batch_size=64):\n",
        "    batch = [generate_sample(length) for _ in range(batch_size)]\n",
        "    samples, targets = zip(*[(sample[0], sample[1]) for sample in batch])\n",
        "    return tf.convert_to_tensor(samples), targets\n",
        "\n",
        "\n",
        "samples, targets = generate_batch()\n",
        "\n",
        "print(samples.shape)\n",
        "print(len(targets))"
      ],
      "execution_count": 2,
      "outputs": [
        {
          "output_type": "stream",
          "text": [
            "(64, 25, 30)\n",
            "64\n"
          ],
          "name": "stdout"
        }
      ]
    },
    {
      "cell_type": "code",
      "metadata": {
        "id": "arWuPj3djUaA"
      },
      "source": [
        "class LSTM_Cell(tf.keras.Model):\n",
        "\n",
        "  def __init__(self, hidden_size):\n",
        "        super(LSTM_Cell, self).__init__()\n",
        "        self.input_gate = tf.keras.layers.Dense(hidden_size, activation=tf.keras.activations.sigmoid)\n",
        "        self.forget_gate = tf.keras.layers.Dense(hidden_size, activation=tf.keras.activations.sigmoid, bias_initializer=\"ones\")\n",
        "        self.output_gate = tf.keras.layers.Dense(hidden_size, activation=tf.keras.activations.sigmoid)\n",
        "        self.cell_state_candidates = tf.keras.layers.Dense(hidden_size, activation=tf.keras.activations.tanh)\n",
        "\n",
        "  def call(self, input, states):\n",
        "        hidden_state = states[0]\n",
        "        cell_state = states[1]\n",
        "\n",
        "        concat_input = tf.concat([hidden_state, input], axis=2)\n",
        "        cell_state = tf.multiply(cell_state, self.forget_gate(concat_input))\n",
        "        update = tf.multiply(self.input_gate(concat_input), self.cell_state_candidates(concat_input))\n",
        "        cell_state = tf.add(cell_state, update)\n",
        "        output = tf.multiply(tf.keras.activations.tanh(cell_state), self.output_gate(concat_input))\n",
        "\n",
        "        return (output, cell_state)"
      ],
      "execution_count": 3,
      "outputs": []
    },
    {
      "cell_type": "code",
      "metadata": {
        "id": "4wEGt9AFs-D6"
      },
      "source": [
        "class LSTM(tf.keras.Model):\n",
        "  def __init__(self, hidden_size):\n",
        "    super(LSTM, self).__init__()\n",
        "    self.cell = LSTM_Cell(hidden_size)\n",
        "\n",
        "    self.hidden_size = hidden_size\n",
        "\n",
        "  def call(self, batch, states):\n",
        "    predictions = []\n",
        "\n",
        "    for sequence in batch:\n",
        "\n",
        "      for input in sequence:\n",
        "\n",
        "        input = tf.expand_dims(tf.expand_dims(input, 0), 0)\n",
        "\n",
        "        states = self.cell(input, states)\n",
        "\n",
        "      predictions.append(states[0])\n",
        "\n",
        "    predictions = tf.squeeze(tf.convert_to_tensor(predictions))\n",
        "\n",
        "    return predictions"
      ],
      "execution_count": 4,
      "outputs": []
    },
    {
      "cell_type": "code",
      "metadata": {
        "id": "7EwX3SVPtMvI"
      },
      "source": [
        "class LSTM_Model(tf.keras.Model):\n",
        "  def __init__(self, hidden_size):\n",
        "    super(LSTM_Model, self).__init__()\n",
        "    self.hidden_size = hidden_size\n",
        "\n",
        "    self.input_layer = tf.keras.layers.Dense(self.hidden_size, activation=tf.keras.activations.sigmoid)\n",
        "    self.lstm = LSTM(self.hidden_size)\n",
        "    self.output_layer = tf.keras.layers.Dense(1, activation=tf.keras.activations.sigmoid)\n",
        "\n",
        "  def init_states(self):\n",
        "\n",
        "    return (tf.zeros((1,1,self.hidden_size)), tf.zeros((1,1,self.hidden_size)))\n",
        "\n",
        "  def call(self, x, states):\n",
        "    x = self.input_layer(x)\n",
        "    x = self.lstm(x, states)\n",
        "    x = self.output_layer(x)\n",
        "\n",
        "    return x\n",
        "    "
      ],
      "execution_count": 5,
      "outputs": []
    },
    {
      "cell_type": "markdown",
      "metadata": {
        "id": "_XUVe6-abWWV"
      },
      "source": [
        "# Training"
      ]
    },
    {
      "cell_type": "code",
      "metadata": {
        "id": "AlRqKDvBbZym"
      },
      "source": [
        "def train_step(model, input, target, loss_function, optimizer):\n",
        "    \n",
        "    # loss_object and optimizer_object are instances of respective tensorflow classes\n",
        "    with tf.GradientTape() as tape:\n",
        "        zero_state = model.init_states()\n",
        "        prediction = model(input,zero_state)\n",
        "        loss = loss_function(target, prediction)\n",
        "        gradients = tape.gradient(loss, model.trainable_variables)\n",
        "    optimizer.apply_gradients(zip(gradients, model.trainable_variables))\n",
        "    \n",
        "    target = np.array([[[target_s] for target_s in list(target)]])\n",
        "    prediction = tf.expand_dims(prediction, 0)\n",
        "\n",
        "    # accuracy using a 0.5 threshold\n",
        "    acc = np.sum(np.abs((target-prediction))<0.5)/(target.shape[0]*target.shape[1])\n",
        "\n",
        "    return np.mean(loss), acc"
      ],
      "execution_count": 6,
      "outputs": []
    },
    {
      "cell_type": "code",
      "metadata": {
        "id": "hYTMlfdLbg1s"
      },
      "source": [
        "def train(model, steps=100, print_every=10, running_average_factor = 0.95):\n",
        "    \n",
        "    optimizer = tf.keras.optimizers.Adam()\n",
        "    cross_entropy_loss = tf.keras.losses.MSE\n",
        "\n",
        "    losses = []\n",
        "    accuracies = []\n",
        "\n",
        "    running_average_loss = 0\n",
        "    running_average_acc = 0\n",
        "    i=0\n",
        "\n",
        "    for i in range(steps):\n",
        "        # generating a new sample in each training step\n",
        "        sequence, target = generate_batch()\n",
        "        loss, acc = train_step(model, sequence, target, cross_entropy_loss, optimizer)\n",
        "        \n",
        "        # compute the running averages of training loss and accuracy\n",
        "        running_average_loss = running_average_factor * running_average_loss  + (1 - running_average_factor) * loss\n",
        "        running_average_acc = running_average_factor * running_average_acc  + (1 - running_average_factor) * acc\n",
        "        losses.append(running_average_loss)\n",
        "        accuracies.append(running_average_acc)\n",
        "        \n",
        "        if i%print_every==0:\n",
        "            print(f\"Training step {i}: average loss is {np.round(losses[-1],2)}, accuracy of {np.round(accuracies[-1], 2) * 100} %\")\n",
        "        \n",
        "        if i == steps:\n",
        "            break\n",
        "        i+=1\n",
        "    \n",
        "    return losses, accuracies"
      ],
      "execution_count": 7,
      "outputs": []
    },
    {
      "cell_type": "code",
      "metadata": {
        "id": "3Su_MrLKbjz1"
      },
      "source": [
        "def visualize(losses, accuracies, name=''):\n",
        "    plt.figure()\n",
        "    plt.title(name)\n",
        "    line1, = plt.plot(losses)\n",
        "    plt.xlabel(\"Training steps\")\n",
        "    plt.ylabel(\"Loss\")\n",
        "    plt.show()\n",
        "    plt.figure()\n",
        "    line1, = plt.plot(accuracies)\n",
        "    plt.xlabel(\"Training steps\")\n",
        "    plt.ylabel(\"Accuracy\")\n",
        "    plt.show()"
      ],
      "execution_count": 8,
      "outputs": []
    },
    {
      "cell_type": "code",
      "metadata": {
        "colab": {
          "base_uri": "https://localhost:8080/",
          "height": 735
        },
        "id": "iIiIxLrMbly9",
        "outputId": "01161754-cf66-4ddb-8cb5-e9e5200057b7"
      },
      "source": [
        "model = LSTM_Model(hidden_size = 2)\n",
        "losses, accuracies = train(model)\n",
        "visualize(losses, accuracies, 'lstm')"
      ],
      "execution_count": 9,
      "outputs": [
        {
          "output_type": "stream",
          "text": [
            "Training step 0: average loss is 0.01, accuracy of 5.0 %\n",
            "Training step 10: average loss is 0.05, accuracy of 43.0 %\n",
            "Training step 20: average loss is 0.08, accuracy of 66.0 %\n",
            "Training step 30: average loss is 0.09, accuracy of 80.0 %\n",
            "Training step 40: average loss is 0.09, accuracy of 88.0 %\n",
            "Training step 50: average loss is 0.09, accuracy of 93.0 %\n",
            "Training step 60: average loss is 0.09, accuracy of 96.0 %\n",
            "Training step 70: average loss is 0.09, accuracy of 97.0 %\n",
            "Training step 80: average loss is 0.08, accuracy of 98.0 %\n",
            "Training step 90: average loss is 0.07, accuracy of 99.0 %\n"
          ],
          "name": "stdout"
        },
        {
          "output_type": "display_data",
          "data": {
            "image/png": "[encoded data removed]",
            "text/plain": [
              "<Figure size 432x288 with 1 Axes>"
            ]
          },
          "metadata": {
            "tags": [],
            "needs_background": "light"
          }
        },
        {
          "output_type": "display_data",
          "data": {
            "image/png": "[encoded data removed]",
            "text/plain": [
              "<Figure size 432x288 with 1 Axes>"
            ]
          },
          "metadata": {
            "tags": [],
            "needs_background": "light"
          }
        }
      ]
    }
  ]
}