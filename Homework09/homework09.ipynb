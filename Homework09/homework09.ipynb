{
 "metadata": {
  "language_info": {
   "codemirror_mode": {
    "name": "ipython",
    "version": 3
   },
   "file_extension": ".py",
   "mimetype": "text/x-python",
   "name": "python",
   "nbconvert_exporter": "python",
   "pygments_lexer": "ipython3",
   "version": "3.6.9-final"
  },
  "orig_nbformat": 2,
  "kernelspec": {
   "name": "python3",
   "display_name": "Python 3",
   "language": "python"
  }
 },
 "nbformat": 4,
 "nbformat_minor": 2,
 "cells": [
  {
   "source": [
    "# Homework 09\n",
    "\n",
    "## Group 10"
   ],
   "cell_type": "markdown",
   "metadata": {}
  },
  {
   "cell_type": "code",
   "execution_count": 1,
   "metadata": {},
   "outputs": [],
   "source": [
    "import numpy as np\n",
    "import tensorflow as tf\n",
    "import matplotlib.pyplot as plt"
   ]
  },
  {
   "cell_type": "code",
   "execution_count": 2,
   "metadata": {},
   "outputs": [
    {
     "output_type": "stream",
     "name": "stdout",
     "text": [
      "[1, 6, 7, 6, 1, 8, 7, 7, 4, 3]\n"
     ]
    }
   ],
   "source": [
    "# The task\n",
    "from random import randint\n",
    "\n",
    "# Simple yield generator\n",
    "def simple_gen(num_to_gen):\n",
    "    num = 0\n",
    "    while num < num_to_gen:\n",
    "        yield randint(0,9)\n",
    "        num += 1\n",
    "\n",
    "print([x for x in simple_gen(10)])"
   ]
  },
  {
   "cell_type": "code",
   "execution_count": 13,
   "metadata": {},
   "outputs": [
    {
     "output_type": "execute_result",
     "data": {
      "text/plain": [
       "(TensorSpec(shape=(100,), dtype=tf.int32, name=None),\n",
       " TensorSpec(shape=(100,), dtype=tf.int32, name=None))"
      ]
     },
     "metadata": {},
     "execution_count": 13
    }
   ],
   "source": [
    "# The Tensorflow version\n",
    "\n",
    "# Creating a generator allows to control the values via the seed\n",
    "rng = tf.random.Generator.from_seed(1)\n",
    "\n",
    "def generate_sequence(nums, gen=rng):\n",
    "    \"\"\"generates a tf.Dataset of a given length with random numbers provided by a generator\"\"\"\n",
    "    return tf.data.Dataset.from_tensor_slices(gen.uniform(shape=(1, nums), maxval=10, dtype=tf.int32))\n",
    "\n",
    "def generate_sequence2(nums):\n",
    "    \"\"\"generates a tf.Dataset of a given length with random numbers provided by a generator\"\"\"\n",
    "    return tf.data.Dataset.from_generator(simple_gen, args=[nums], output_types=tf.int32, output_shapes = (nums, ))\n",
    "\n",
    "ds = generate_sequence(100)\n",
    "ds2 = generate_sequence2(100)\n",
    "ds.element_spec, ds2.element_spec\n",
    "\n"
   ]
  }
 ]
}