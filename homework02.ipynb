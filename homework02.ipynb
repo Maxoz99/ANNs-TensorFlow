{
 "cells": [
  {
   "cell_type": "markdown",
   "metadata": {},
   "source": [
    "# 1 Preparation"
   ]
  },
  {
   "cell_type": "markdown",
   "metadata": {},
   "source": [
    "## What is the purpose of an activation function in NN in general?\n",
    "The activation function decides what output the neuron should give in relation to its input values and weights."
   ]
  },
  {
   "cell_type": "markdown",
   "metadata": {},
   "source": [
    "## What’s the advantage of e.g. sigmoid over the step function (threshold function)?\n",
    "The sigmoid function allows for a smoother activation rather than an on-off activation as seen in the step function. With this we can express uncertainty in our classifications.\n"
   ]
  },
  {
   "cell_type": "markdown",
   "metadata": {},
   "source": [
    "## How does sigmoid look like (the formula as well as the graph)?\n",
    "\n",
    "Formula:\n",
    "$\\sigma(x) = \\frac{1}{1+e^{-x}}$\n",
    "\n",
    "with e being Euler's number. \n",
    "\n",
    "Graph\n",
    "\n",
    "![Graph of the Simoid function](https://upload.wikimedia.org/wikipedia/commons/thumb/5/53/Sigmoid-function-2.svg/2000px-Sigmoid-function-2.svg.png)\n",
    "\n",
    "Source: Wikipedia"
   ]
  },
  {
   "cell_type": "markdown",
   "metadata": {},
   "source": [
    "## What is the derivative of sigmoid?\n",
    "\n",
    "$\\sigma(x)' = \\sigma(x)(1 - \\sigma(x))$"
   ]
  },
  {
   "cell_type": "markdown",
   "metadata": {},
   "source": [
    "## Implementation"
   ]
  },
  {
   "cell_type": "code",
   "execution_count": 80,
   "metadata": {},
   "outputs": [],
   "source": [
    "import numpy as np\n",
    "import matplotlib.pyplot as plt"
   ]
  },
  {
   "cell_type": "code",
   "execution_count": 81,
   "metadata": {},
   "outputs": [],
   "source": [
    "# Sigmoid function\n",
    "def sigmoid(x):\n",
    "    return 1 / (1 + np.exp(-x))\n",
    "\n",
    "# Derivative of Sigmoid function\n",
    "def sigmoidprime(x):\n",
    "    return (sigmoid(x)*(1-sigmoid(x)))"
   ]
  },
  {
   "cell_type": "code",
   "execution_count": 82,
   "metadata": {},
   "outputs": [
    {
     "data": {
      "image/png": "[encoded data removed]",
      "text/plain": [
       "<Figure size 432x288 with 1 Axes>"
      ]
     },
     "metadata": {
      "needs_background": "light"
     },
     "output_type": "display_data"
    }
   ],
   "source": [
    "# Quick visualization\n",
    "\n",
    "import matplotlib.pyplot as plt\n",
    "\n",
    "values = np.arange(-8,8, 0.5)\n",
    "plt.plot(sigmoid(values))\n",
    "plt.plot(sigmoidprime(values))\n",
    "plt.legend([\"$\\sigma$\", \"$\\sigma \\ '$\"])\n",
    "plt.show()"
   ]
  },
  {
   "cell_type": "markdown",
   "metadata": {},
   "source": [
    "# 3 Perceptron"
   ]
  },
  {
   "cell_type": "code",
   "execution_count": 102,
   "metadata": {},
   "outputs": [],
   "source": [
    "# These are the four possible input pairs of (x1,x2).\n",
    "x = np.array([[0,0],[0,1],[1,0],[1,1]])\n",
    "# These are possible labels form some logical gates.\n",
    "t_and = np.array([0,0,0,1])\n",
    "t_or = np.array([0,1,1,1])\n",
    "t_nand = np.array([1,1,1,0])\n",
    "t_nor = np.array([1,0,0,0])\n",
    "t_xor = np.array([0,1,1,0])\n",
    "\n"
   ]
  },
  {
   "cell_type": "code",
   "execution_count": 103,
   "metadata": {},
   "outputs": [],
   "source": [
    "\n",
    "class Perceptron:\n",
    "    \"\"\"Implementation of a perceptron taken from the coding class, but with sigmoid activation function.\"\"\"\n",
    "\n",
    "    def __init__(self, input_units):\n",
    "        self.input_units = input_units\n",
    "        self.weights = np.random.randn(input_units)\n",
    "        self.bias = np.random.randn()\n",
    "        self.alpha = 1\n",
    "        self.weighted_sum = 0\n",
    "        self.input_data = 0\n",
    "        \n",
    "    def forward_step(self, input_data):\n",
    "        \"\"\"Perform forward step\"\"\"\n",
    "        self.input_data = input_data\n",
    "        self.weighted_sum =  self.weights @ input_data + self.bias \n",
    "        return sigmoid(self.weighted_sum)\n",
    "        \n",
    "    def update(self, delta):\n",
    "        self.bias -= delta * self.alpha\n",
    "        self.weights -= delta * self.alpha * self.input_data\n",
    "        "
   ]
  },
  {
   "cell_type": "code",
   "execution_count": 110,
   "metadata": {},
   "outputs": [],
   "source": [
    "# Very simple example of a neural network with 2 inputs and 1 hidden layer\n",
    "class MLP:\n",
    "    def __init__(self, inputs=2, neurons_in_layer=4):\n",
    "        self.perceptrons = np.array([Perceptron(inputs) for _ in range(neurons_in_layer)])\n",
    "        self.output_neuron = Perceptron(neurons_in_layer)\n",
    "        self.output = 0\n",
    "\n",
    "    def forward_step(self, input_data):\n",
    "        hidden_activation = np.array([perceptron.forward_step(input_data) for perceptron in self.perceptrons])\n",
    "        self.output = self.output_neuron.forward_step(np.reshape(hidden_activation, newshape=(-1)))\n",
    "                    \n",
    "    def backprop_step(self, label):\n",
    "        # Calculate adjustment for output layer\n",
    "        delta_output = -(label - self.output) * sigmoidprime(self.output_neuron.weighted_sum)\n",
    "        self.output_neuron.update(delta_output)\n",
    "        \n",
    "        deltas_hidden = [delta_output * sigmoidprime(n.weighted_sum) * self.output_neuron.weights[i] for i,n in enumerate(self.perceptrons)]\n",
    "\n",
    "        # Calculate adjustment for hidden layer\n",
    "        for i, perceptron in enumerate(self.perceptrons):\n",
    "            perceptron.update(deltas_hidden[i])\n",
    "\n"
   ]
  },
  {
   "cell_type": "code",
   "execution_count": 111,
   "metadata": {
    "scrolled": true
   },
   "outputs": [
    {
     "data": {
      "image/png": "[encoded data removed]",
      "text/plain": [
       "<Figure size 432x288 with 2 Axes>"
      ]
     },
     "metadata": {
      "needs_background": "light"
     },
     "output_type": "display_data"
    }
   ],
   "source": [
    "# Now let's train the perceptron.\n",
    "t = t_xor\n",
    "\n",
    "mlp = MLP()\n",
    "\n",
    "# Initialize lists to store steps and performance.\n",
    "steps = []\n",
    "accuracies = []\n",
    "losses = []\n",
    "\n",
    "for i in range(1000):\n",
    "    steps.append(i)\n",
    "    # Draw random sample with corresponding label\n",
    "    #index = np.random.randint(len(x))\n",
    "    loss=0\n",
    "    accuracy=0\n",
    "    \n",
    "    for index in np.random.choice(4,size=4,replace=False):\n",
    "        sample = x[index]\n",
    "        label = t[index]\n",
    "        mlp.forward_step(sample)\n",
    "        mlp.backprop_step(label)\n",
    "        # Calculate square error\n",
    "        loss += (label - mlp.output) ** 2\n",
    "        accuracy += int(np.abs(label - mlp.output)<0.5)\n",
    "    accuracies.append(accuracy/4)\n",
    "    losses.append(loss/4)\n",
    "    \n",
    "    \n",
    "    # Print the performance\n",
    "fig, axs = plt.subplots(2)\n",
    "fig.suptitle('Performance')\n",
    "axs[0].plot(steps, losses)\n",
    "axs[0].set(xlabel='Steps', ylabel='Error')\n",
    "\n",
    "axs[1].plot(steps, accuracies)\n",
    "axs[1].set(xlabel='Steps', ylabel='Accuracy')\n",
    "\n",
    "plt.show()"
   ]
  },
  {
   "cell_type": "code",
   "execution_count": null,
   "metadata": {},
   "outputs": [],
   "source": []
  }
 ],
 "metadata": {
  "kernelspec": {
   "display_name": "Python 3",
   "language": "python",
   "name": "python3"
  },
  "language_info": {
   "codemirror_mode": {
    "name": "ipython",
    "version": 3
   },
   "file_extension": ".py",
   "mimetype": "text/x-python",
   "name": "python",
   "nbconvert_exporter": "python",
   "pygments_lexer": "ipython3",
   "version": "3.7.9"
  }
 },
 "nbformat": 4,
 "nbformat_minor": 4
}
