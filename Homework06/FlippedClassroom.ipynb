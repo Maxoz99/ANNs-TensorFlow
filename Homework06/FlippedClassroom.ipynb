{
 "cells": [
  {
   "cell_type": "code",
   "execution_count": 2,
   "metadata": {
    "id": "aKlPd6XYK3JI"
   },
   "outputs": [],
   "source": [
    "import numpy as np\n",
    "import matplotlib.pyplot as plt\n",
    "import tensorflow as tf\n",
    "import time"
   ]
  },
  {
   "cell_type": "markdown",
   "metadata": {
    "id": "VSJoBWJa7DnM"
   },
   "source": [
    "## Disclaimer\n",
    "\n",
    "The architecture of the following model is pureley fictous and its only purpose is to show you how to implement\n",
    "\n",
    "- a custom Layer Block\n",
    "- a call with a residual connection\n",
    "- concatenation\n",
    "\n",
    "Do not refer to this architecture for the homework!!!!!"
   ]
  },
  {
   "cell_type": "code",
   "execution_count": 3,
   "metadata": {
    "id": "RWOpLTZHMp5z"
   },
   "outputs": [],
   "source": [
    "# define arbitrary custom layer block which you can use like a layer in your model\n",
    "# a layer block is basicall a subclass containing multiple layers\n",
    "# to make it callable, inherit from tf.keras.layers.Layer\n",
    "\n",
    "class CustomBlock(tf.keras.layers.Layer):\n",
    "  \n",
    "  def __init__(self, channels):\n",
    "    super(CustomBlock, self).__init__()\n",
    "\n",
    "    # define set of layers\n",
    "\n",
    "    # be careful! with residual connections, you have to make sure that the dimensions from your input match the block output\n",
    "    # therefore be careful what filter size youuse and choose sme padiing\n",
    "    self.conv = tf.keras.layers.Conv2D(filters=channels, kernel_size=3, padding='SAME')\n",
    "    # you can put multiple more layers here\n",
    "\n",
    "  def call(self, x):\n",
    "\n",
    "    # define call\n",
    "    # add original input to block output\n",
    "    y = self.conv(x)\n",
    "    y = y + x\n",
    "\n",
    "    return y\n"
   ]
  },
  {
   "cell_type": "code",
   "execution_count": 5,
   "metadata": {
    "colab": {
     "base_uri": "https://localhost:8080/"
    },
    "id": "xBstzU-AaJ8c",
    "outputId": "5c5792fc-92b9-4090-df3b-9dbb8e19c71a"
   },
   "outputs": [
    {
     "name": "stdout",
     "output_type": "stream",
     "text": [
      "(1, 10, 10, 3)\n"
     ]
    }
   ],
   "source": [
    "x = tf.ones((1,10,10,3))\n",
    "block = CustomBlock(channels=3)\n",
    "y = block(x)\n",
    "print(y.shape)"
   ]
  },
  {
   "cell_type": "code",
   "execution_count": 24,
   "metadata": {
    "id": "VQHSHdk7NUtI"
   },
   "outputs": [],
   "source": [
    "# define network\n",
    "class CustomNet(tf.keras.Model):\n",
    "\n",
    "  def __init__(self, num_blocks=2, channels_in_block=10):\n",
    "\n",
    "    super(CustomNet, self).__init__()\n",
    "\n",
    "    # you can define a set of layes to put in front of your custom blocks\n",
    "    self.pre_block = [tf.keras.layers.Conv2D(filters=channels_in_block, kernel_size=3, padding='SAME')]\n",
    "    self.pre_block.append(tf.keras.layers.BatchNormalization())\n",
    "\n",
    "    # now you can use your self defined blocks much like layers\n",
    "    self.blocks = []\n",
    "    for _ in range(num_blocks):\n",
    "        self.blocks.append(CustomBlock(channels=channels_in_block))\n",
    "        # append more stuff if you want to alter the order in the call\n",
    "        # eg Transition Layers\n",
    "\n",
    "    # concatenation layer    \n",
    "    self.concat = tf.keras.layers.Concatenate()\n",
    "    \n",
    "    # readout layers\n",
    "    self.post_blocks = []\n",
    "    self.post_blocks.append(tf.keras.layers.GlobalAveragePooling2D())\n",
    "    self.post_blocks.append(tf.keras.layers.Dense(units=5))\n",
    "   \n",
    "\n",
    "    \n",
    "  def call(self, x, training_flag=True):\n",
    "\n",
    "      # pass input through pre_block layers\n",
    "      # you can pass the training flag to every layer in tf\n",
    "      for l in self.pre_block:\n",
    "        x = l(x, training=training_flag)\n",
    "\n",
    "      # concatenate blocks input and blocks output\n",
    "      y = x\n",
    "      for b in self.blocks:\n",
    "        y = b(y)\n",
    "      # the concatenation layer has to be called with a list of \n",
    "      # ! again fictional architecture !\n",
    "      y = self.concat([y,x])\n",
    "      \n",
    "      # readout layers\n",
    "      for b in self.post_blocks:\n",
    "        y = b(y)\n",
    "\n",
    "      # make sure prediction and target dimension match\n",
    "      y = tf.expand_dims(y, axis=1)\n",
    "\n",
    "      return y"
   ]
  },
  {
   "cell_type": "code",
   "execution_count": 25,
   "metadata": {
    "id": "muR-qNUxOqsP"
   },
   "outputs": [],
   "source": [
    "def timing(start):\n",
    "    now = time.time()\n",
    "    time_per_training_step = now - start\n",
    "    # compute duration of an epoch\n",
    "    return round(time_per_training_step, 2)"
   ]
  },
  {
   "cell_type": "code",
   "execution_count": 26,
   "metadata": {
    "id": "bsZHlW8jMjQY"
   },
   "outputs": [],
   "source": [
    "# define arbitrary input and target\n",
    "input = tf.zeros((4,100,100,3))\n",
    "target = tf.ones((4,1,5))"
   ]
  },
  {
   "cell_type": "code",
   "execution_count": 27,
   "metadata": {
    "colab": {
     "base_uri": "https://localhost:8080/"
    },
    "id": "OUMl3nyoPqW8",
    "outputId": "1c11eafe-448f-4156-e497-039155b02e48"
   },
   "outputs": [
    {
     "name": "stdout",
     "output_type": "stream",
     "text": [
      "The training step took 0.51 seconds\n"
     ]
    }
   ],
   "source": [
    "tf.keras.backend.clear_session()\n",
    "model = CustomNet()\n",
    "\n",
    "loss_function = tf.keras.losses.CategoricalCrossentropy()\n",
    "optimizer = tf.keras.optimizers.Adam(learning_rate=0.001)\n",
    "\n",
    "start = time.time()\n",
    "\n",
    "with tf.GradientTape() as tape:\n",
    "  prediction = model(input, training=True)\n",
    "  loss = loss_function(target, prediction)\n",
    "  gradients = tape.gradient(loss, model.trainable_variables)\n",
    "  optimizer.apply_gradients(zip(gradients, model.trainable_variables))\n",
    "\n",
    "print(f\"The training step took {timing(start)} seconds\")\n",
    "\n",
    "\n"
   ]
  },
  {
   "cell_type": "code",
   "execution_count": 28,
   "metadata": {
    "colab": {
     "base_uri": "https://localhost:8080/"
    },
    "id": "mOSaKkk6QWSD",
    "outputId": "f68e8743-fb93-475e-f9e1-a1f5076a8a1b"
   },
   "outputs": [
    {
     "name": "stdout",
     "output_type": "stream",
     "text": [
      "Model: \"custom_net\"\n",
      "_________________________________________________________________\n",
      "Layer (type)                 Output Shape              Param #   \n",
      "=================================================================\n",
      "conv2d (Conv2D)              multiple                  280       \n",
      "_________________________________________________________________\n",
      "batch_normalization (BatchNo multiple                  40        \n",
      "_________________________________________________________________\n",
      "custom_block (CustomBlock)   multiple                  910       \n",
      "_________________________________________________________________\n",
      "custom_block_1 (CustomBlock) multiple                  910       \n",
      "_________________________________________________________________\n",
      "concatenate (Concatenate)    multiple                  0         \n",
      "_________________________________________________________________\n",
      "global_average_pooling2d (Gl multiple                  0         \n",
      "_________________________________________________________________\n",
      "dense (Dense)                multiple                  105       \n",
      "=================================================================\n",
      "Total params: 2,245\n",
      "Trainable params: 2,225\n",
      "Non-trainable params: 20\n",
      "_________________________________________________________________\n"
     ]
    }
   ],
   "source": [
    "# how many parameters does our network have?\n",
    "model.summary()"
   ]
  }
 ],
 "metadata": {
  "colab": {
   "name": "FlippedClassroom",
   "provenance": []
  },
  "kernelspec": {
   "display_name": "Python 3",
   "language": "python",
   "name": "python3"
  },
  "language_info": {
   "codemirror_mode": {
    "name": "ipython",
    "version": 3
   },
   "file_extension": ".py",
   "mimetype": "text/x-python",
   "name": "python",
   "nbconvert_exporter": "python",
   "pygments_lexer": "ipython3",
   "version": "3.6.9"
  }
 },
 "nbformat": 4,
 "nbformat_minor": 1
}
