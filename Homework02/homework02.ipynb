{
 "cells": [
  {
   "cell_type": "code",
   "execution_count": 1,
   "metadata": {},
   "outputs": [],
   "source": [
    "import numpy as np"
   ]
  },
  {
   "cell_type": "markdown",
   "metadata": {},
   "source": [
    "# 1 Preparation"
   ]
  },
  {
   "cell_type": "markdown",
   "metadata": {},
   "source": [
    "## What is the purpose of an activation function in NN in general?\n",
    "The activation function decides what output the neuron should give in relation to its input values and weights."
   ]
  },
  {
   "cell_type": "markdown",
   "metadata": {},
   "source": [
    "## What’s the advantage of e.g. sigmoid over the step function (threshold function)?\n",
    "The sigmoid function allows for a smoother activation rather than an on-off activation as seen in the step function. With this we can express uncertainty in our classifications.\n"
   ]
  },
  {
   "cell_type": "markdown",
   "metadata": {},
   "source": [
    "## How does sigmoid look like (the formula as well as the graph)?\n",
    "\n",
    "Formula:\n",
    "$\\sigma(x) = \\frac{1}{1+e^{-x}}$\n",
    "\n",
    "with e being Euler's number. \n",
    "\n",
    "Graph\n",
    "\n",
    "![Graph of the Simoid function](https://upload.wikimedia.org/wikipedia/commons/thumb/5/53/Sigmoid-function-2.svg/2000px-Sigmoid-function-2.svg.png)\n",
    "\n",
    "Source: Wikipedia"
   ]
  },
  {
   "cell_type": "markdown",
   "metadata": {},
   "source": [
    "## What is the derivative of sigmoid?\n",
    "\n",
    "$\\sigma(x)' = \\sigma(x)(1 - \\sigma(x))$"
   ]
  },
  {
   "cell_type": "markdown",
   "metadata": {},
   "source": [
    "## Implementation"
   ]
  },
  {
   "cell_type": "code",
   "execution_count": 2,
   "metadata": {},
   "outputs": [],
   "source": [
    "# Sigmoid function\n",
    "def sigmoid(x):\n",
    "    return 1 / (1 + np.exp(-x))\n",
    "\n",
    "# Derivative of Sigmoid function\n",
    "def sigmoidprime(x):\n",
    "    return sigmoid(x)*(1-sigmoid(x))"
   ]
  },
  {
   "cell_type": "code",
   "execution_count": 3,
   "metadata": {},
   "outputs": [
    {
     "data": {
      "image/png": "[encoded data removed]",
      "text/plain": [
       "<Figure size 432x288 with 1 Axes>"
      ]
     },
     "metadata": {
      "needs_background": "light"
     },
     "output_type": "display_data"
    }
   ],
   "source": [
    "# Quick visualization\n",
    "\n",
    "import matplotlib.pyplot as plt\n",
    "\n",
    "values = np.arange(-8,8, 0.5)\n",
    "plt.plot(sigmoid(values))\n",
    "plt.plot(sigmoidprime(values))\n",
    "plt.legend([\"$\\sigma$\", \"$\\sigma \\ '$\"])\n",
    "plt.show()"
   ]
  },
  {
   "cell_type": "markdown",
   "metadata": {},
   "source": [
    "# 3 Perceptron"
   ]
  },
  {
   "cell_type": "code",
   "execution_count": 4,
   "metadata": {},
   "outputs": [],
   "source": [
    "class Perceptron:\n",
    "    \n",
    "    def __init__(self, input_units):\n",
    "        self.input_units = input_units\n",
    "        self.weights = np.random.randn(input_units)\n",
    "        self.bias = np.random.randn()\n",
    "        self.alpha = 1\n",
    "        \n",
    "    def forward_step(self, input_data):\n",
    "        # Perform a perceptron forward step.\n",
    "        weighted_sum =  self.weights @ input_data + self.bias \n",
    "        return sigmoid(weighted_sum)\n",
    "        \n",
    "    def training_step(self, input_data, label):\n",
    "        # Perform a whole training step (including the forward step).\n",
    "        # 1. Forward step.\n",
    "        prediction = self.forward_step(input_data)\n",
    "        # 2. Calculate the weight updates.\n",
    "        delta_weights = self.alpha * (label - prediction) * input_data\n",
    "        # 3. Calculate the bias update. We consider 1 as the \"input\" to the bias, so that we can treat it just like the other weights.\n",
    "        delta_bias = self.alpha * (label - prediction) * 1\n",
    "        # 4. Update weights and bias.\n",
    "        self.weights += delta_weights\n",
    "        self.bias += delta_bias"
   ]
  },
  {
   "cell_type": "code",
   "execution_count": 5,
   "metadata": {},
   "outputs": [],
   "source": [
    "# Input data\n",
    "x = np.array([(1, 1), (1, 0), (0, 1), (0, 0)])\n",
    "\n",
    "# Labels\n",
    "t_and = np.array([1,0,0,0])\n",
    "t_or = np.array([1,1,1,0])\n",
    "t_nand = np.array([0,1,1,1])\n",
    "t_nor = np.array([0,0,0,1])\n",
    "t_xor = np.array([0,1,1,0])\n",
    "\n",
    "# Very simple example of a neural network with 2 inputs and 1 hidden layer\n",
    "class MLP:\n",
    "    def __init__(self, inputs, neurons_in_layer):\n",
    "        self.perceptrons = [Perceptron(inputs) for _ in range(neurons_in_layer)]\n",
    "        \n",
    "    def forward_step(self, input_data):\n",
    "        return np.array([perceptron.forward_step(input_data) for perceptron in self.perceptrons])\n",
    "            \n",
    "    def backprop_step(self, input_data, label):\n",
    "        for perceptron in self.perceptrons:\n",
    "            perceptron.training_step(input_data, label)\n",
    "    \n",
    "\n",
    "# Now let's train the perceptron.\n",
    "t = t_and\n",
    "\n",
    "mlp = MLP(2, 4)\n",
    "output_layer = Perceptron(4)\n",
    "\n",
    "# Initialize lists to store steps and performance.\n",
    "steps = []\n",
    "accuracies = []\n",
    "losses = []\n",
    "\n",
    "for i in range(1000):\n",
    "    steps.append(i)\n",
    "    # Draw random sample with corresponding label\n",
    "    index = np.random.randint(len(x))\n",
    "    sample = x[index]\n",
    "    label = t[index]\n",
    "\n",
    "    # Calculate Output\n",
    "    hidden_layer_output = mlp.forward_step(sample)\n",
    "    output = output_layer.forward_step(hidden_layer_output)\n",
    "    \n",
    "    # Calculate square error\n",
    "    loss = (label - output) ** 2\n",
    "    losses.append(loss)\n",
    "    \n",
    "    accuracy = 1 if (label - output) <= 0.5 else 0\n",
    "    accuracies.append(accuracy)\n",
    "    \n",
    "    # Perform backpropagation\n",
    "    output_layer.training_step(hidden_layer_output, label)\n",
    "    mlp.backprop_step(sample, label)"
   ]
  },
  {
   "cell_type": "code",
   "execution_count": 6,
   "metadata": {},
   "outputs": [
    {
     "data": {
      "image/png": "[encoded data removed]",
      "text/plain": [
       "<Figure size 432x288 with 2 Axes>"
      ]
     },
     "metadata": {
      "needs_background": "light"
     },
     "output_type": "display_data"
    }
   ],
   "source": [
    "import matplotlib.pyplot as plt\n",
    "\n",
    "\n",
    "fig, axs = plt.subplots(2)\n",
    "fig.suptitle('Performance')\n",
    "axs[0].plot(steps, losses)\n",
    "axs[0].set(xlabel='Steps', ylabel='Error')\n",
    "\n",
    "axs[1].plot(steps, accuracies)\n",
    "axs[1].set(xlabel='Steps', ylabel='Accuracy')\n",
    "\n",
    "plt.show()"
   ]
  }
 ],
 "metadata": {
  "kernelspec": {
   "display_name": "Python 3",
   "language": "python",
   "name": "python3"
  },
  "language_info": {
   "codemirror_mode": {
    "name": "ipython",
    "version": 3
   },
   "file_extension": ".py",
   "mimetype": "text/x-python",
   "name": "python",
   "nbconvert_exporter": "python",
   "pygments_lexer": "ipython3",
   "version": "3.7.9"
  }
 },
 "nbformat": 4,
 "nbformat_minor": 4
}
